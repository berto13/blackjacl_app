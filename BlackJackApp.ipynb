{
 "cells": [
  {
   "cell_type": "code",
   "execution_count": 1,
   "metadata": {},
   "outputs": [],
   "source": [
    "import random"
   ]
  },
  {
   "cell_type": "code",
   "execution_count": 2,
   "metadata": {},
   "outputs": [],
   "source": [
    "def dealer_cards_func(hand):\n",
    "    \n",
    "    total_dealer = sum(hand)\n",
    "    print('Dealer cards:', '?', dealer[1])\n",
    "    return dealer, total_dealer"
   ]
  },
  {
   "cell_type": "code",
   "execution_count": 3,
   "metadata": {},
   "outputs": [],
   "source": [
    "def player_cards_func():\n",
    "    check_for_A = 0\n",
    "    player = []\n",
    "    for ply_crd in range(2):\n",
    "        card = random.randint(2,11)\n",
    "\n",
    "        player.append(card)\n",
    "    if 11 in player:\n",
    "            check_for_A = 1\n",
    "    total_value = sum(player)\n",
    "    if total_value > 21 & check_for_A == 1:\n",
    "        for c in range(len(player)):\n",
    "            if player[c] == 11:\n",
    "                player[c] = 1\n",
    "    total_value = sum(player)\n",
    "    print(player)\n",
    "    print(total_value)\n",
    "    return player, total_value"
   ]
  },
  {
   "cell_type": "code",
   "execution_count": 4,
   "metadata": {},
   "outputs": [],
   "source": [
    "deck_of_cards = []\n",
    "dealer = []\n",
    "\n",
    "for i in range(2):\n",
    "    card = random.randint(2,11)\n",
    "    dealer.append(card)"
   ]
  },
  {
   "cell_type": "code",
   "execution_count": 5,
   "metadata": {},
   "outputs": [
    {
     "name": "stdout",
     "output_type": "stream",
     "text": [
      "Dealer cards: ? 11\n",
      "[9, 3]\n",
      "12\n",
      "Do you want another card (Y/N):Y\n",
      "20\n",
      "Do you want another card (Y/N):N\n"
     ]
    }
   ],
   "source": [
    "dealer_shuffle, total = dealer_cards_func(dealer)\n",
    "player_shuffle, ply_total = player_cards_func()\n",
    "if ply_total > 21:\n",
    "    print('Bust')\n",
    "    \n",
    "while ply_total < 21:\n",
    "    ask_player = str(input('Do you want another card (Y/N):'))\n",
    "    if ask_player == 'Y':\n",
    "        card = random.randint(2,11)\n",
    "        player_shuffle.append(card)\n",
    "        ply_total = sum(player_shuffle)\n",
    "    elif ask_player == 'N':\n",
    "        break\n",
    "    print(ply_total)\n",
    "    if ply_total > 21:\n",
    "        print('Bust')"
   ]
  },
  {
   "cell_type": "code",
   "execution_count": 7,
   "metadata": {},
   "outputs": [
    {
     "name": "stdout",
     "output_type": "stream",
     "text": [
      "[2, 11]\n",
      "13\n",
      "You won!\n"
     ]
    }
   ],
   "source": [
    "print(dealer_shuffle)\n",
    "print(total)\n",
    "\n",
    "if ply_total > 21:\n",
    "    print('Dealer won!')\n",
    "elif total > ply_total:\n",
    "    print('Dealer won!')\n",
    "elif total == ply_total:\n",
    "    print('It was a draw.')\n",
    "else :\n",
    "    print('You won!')"
   ]
  },
  {
   "cell_type": "code",
   "execution_count": null,
   "metadata": {},
   "outputs": [],
   "source": []
  }
 ],
 "metadata": {
  "kernelspec": {
   "display_name": "Python 3",
   "language": "python",
   "name": "python3"
  },
  "language_info": {
   "codemirror_mode": {
    "name": "ipython",
    "version": 3
   },
   "file_extension": ".py",
   "mimetype": "text/x-python",
   "name": "python",
   "nbconvert_exporter": "python",
   "pygments_lexer": "ipython3",
   "version": "3.7.3"
  }
 },
 "nbformat": 4,
 "nbformat_minor": 2
}
